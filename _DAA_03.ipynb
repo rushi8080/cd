{
 "cells": [
  {
   "cell_type": "code",
   "execution_count": 5,
   "id": "062b4478-f435-4e55-b698-859a3f5717b6",
   "metadata": {},
   "outputs": [
    {
     "name": "stdout",
     "output_type": "stream",
     "text": [
      "60\n",
      "160\n",
      "240\n"
     ]
    }
   ],
   "source": [
    "def fractional_knapsack():\n",
    "    weights = [10,20,30]\n",
    "    values = [60,100,120]\n",
    "    capacity = 50\n",
    "    res = 0\n",
    "    \n",
    "    for pair in sorted(zip(weights,values), key = lambda x : x[1]/x[0], reverse = True):\n",
    "        if capacity <= 0:\n",
    "            break\n",
    "        if pair [0] > capacity :\n",
    "            res += int (capacity * (pair[1]/pair[0]))\n",
    "            capacity = 0\n",
    "        elif pair[0] <= capacity:\n",
    "            res += pair[1]\n",
    "            capacity -= pair[0]\n",
    "        print(res)\n",
    "\n",
    "if __name__ == \"__main__\":\n",
    "    fractional_knapsack()\n",
    "\n",
    "        "
   ]
  },
  {
   "cell_type": "code",
   "execution_count": 8,
   "id": "91826dfb-dd32-47b5-a3a3-5af45cfeaf58",
   "metadata": {},
   "outputs": [
    {
     "name": "stdout",
     "output_type": "stream",
     "text": [
      "60\n",
      "160\n",
      "240\n"
     ]
    }
   ],
   "source": [
    "def fractional_knapsack():\n",
    "    weights = [10,20,30] \n",
    "    value = [60,100,120]\n",
    "    capacity = 50 \n",
    "    res = 0\n",
    "\n",
    "    for pair in sorted(zip(weights,value) , key = lambda x : x[1]/x[0] , reverse = True):\n",
    "\n",
    "        if capacity <= 0 :\n",
    "            break\n",
    "        if pair[0] > capacity :\n",
    "            res += int (capacity * (pair[1]/pair[0]))\n",
    "            capacity = 0\n",
    "\n",
    "        elif pair[0] <= capacity :\n",
    "            res += pair[1]\n",
    "            capacity -= pair[0]\n",
    "        print(res)\n",
    " \n",
    "\n",
    "if __name__ == \"__main__\" :\n",
    "    fractional_knapsack()"
   ]
  },
  {
   "cell_type": "code",
   "execution_count": 9,
   "id": "1f203457-4321-4c7c-87d9-750dd03176c6",
   "metadata": {},
   "outputs": [
    {
     "name": "stdout",
     "output_type": "stream",
     "text": [
      "100\n",
      "250\n",
      "370\n"
     ]
    }
   ],
   "source": [
    "def fractional_knapsack():\n",
    "    weights = [10,20,30]\n",
    "    values = [100,150,180]\n",
    "    capacity = 50\n",
    "    res = 0\n",
    "    \n",
    "    for pair in sorted(zip(weights,values), key = lambda x : x[1]/x[0], reverse = True):\n",
    "        if capacity <= 0:\n",
    "            break\n",
    "        if pair [0] > capacity :\n",
    "            res += int (capacity * (pair[1]/pair[0]))\n",
    "            capacity = 0\n",
    "        elif pair[0] <= capacity:\n",
    "            res += pair[1]\n",
    "            capacity -= pair[0]\n",
    "        print(res)\n",
    "\n",
    "if __name__ == \"__main__\":\n",
    "    fractional_knapsack()\n",
    "\n",
    "        "
   ]
  },
  {
   "cell_type": "code",
   "execution_count": 1,
   "id": "326b5360-0415-490f-8a16-3c421c025b01",
   "metadata": {},
   "outputs": [
    {
     "name": "stdout",
     "output_type": "stream",
     "text": [
      "150\n",
      "350\n",
      "550\n"
     ]
    }
   ],
   "source": [
    "def fractional_knapsack():\n",
    "    value = [150,200,300]\n",
    "    weight = [10,20,30]\n",
    "    capacity = 50\n",
    "    res = 0\n",
    "\n",
    "    for pair in sorted(zip(weight,value), key = lambda x : x[1]/x[0] , reverse = True):\n",
    "\n",
    "        if capacity <= 0:\n",
    "            break\n",
    "\n",
    "        if pair[0] > capacity :\n",
    "            res += int (capacity * (pair[1]/pair[0]))\n",
    "            capacity = 0\n",
    "\n",
    "        elif pair[0] <= capacity :\n",
    "            res += pair[1]\n",
    "            capacity -= pair[0]\n",
    "\n",
    "        print(res)\n",
    "\n",
    "if __name__ ==\"__main__\":\n",
    "    fractional_knapsack()"
   ]
  },
  {
   "cell_type": "code",
   "execution_count": 3,
   "id": "b4c2a814-72c4-442d-9440-819dc0de6c65",
   "metadata": {},
   "outputs": [
    {
     "name": "stdout",
     "output_type": "stream",
     "text": [
      "180\n",
      "260\n",
      "420\n"
     ]
    }
   ],
   "source": [
    "def fractional_knapsack():\n",
    "    value = [80,180,240]\n",
    "    weight = [10,20,30]\n",
    "    capacity = 50\n",
    "    res = 0\n",
    "\n",
    "    for pair in sorted(zip(weight,value), key = lambda x : x[1]/x[0] , reverse = True):\n",
    "        if capacity <= 0 :\n",
    "            break\n",
    "\n",
    "        if pair[0] > capacity:\n",
    "            res += int(capacity * (pair[1]/pair[0]))\n",
    "            capacity = 0\n",
    "\n",
    "        elif pair[0] <= capacity:\n",
    "            res += pair[1]\n",
    "            capacity = capacity - pair[0]\n",
    "\n",
    "        print(res)\n",
    "\n",
    "if __name__ == \"__main__\" :\n",
    "    fractional_knapsack()"
   ]
  },
  {
   "cell_type": "code",
   "execution_count": null,
   "id": "2c4d7ab1-420e-441e-b888-6707c743edba",
   "metadata": {},
   "outputs": [],
   "source": []
  }
 ],
 "metadata": {
  "kernelspec": {
   "display_name": "Python 3 (ipykernel)",
   "language": "python",
   "name": "python3"
  },
  "language_info": {
   "codemirror_mode": {
    "name": "ipython",
    "version": 3
   },
   "file_extension": ".py",
   "mimetype": "text/x-python",
   "name": "python",
   "nbconvert_exporter": "python",
   "pygments_lexer": "ipython3",
   "version": "3.12.4"
  }
 },
 "nbformat": 4,
 "nbformat_minor": 5
}
