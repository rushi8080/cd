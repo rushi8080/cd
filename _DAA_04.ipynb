{
 "cells": [
  {
   "cell_type": "code",
   "execution_count": 1,
   "id": "41c93b19-1551-40af-87a1-8200ec18b74a",
   "metadata": {},
   "outputs": [
    {
     "name": "stdout",
     "output_type": "stream",
     "text": [
      "350\n"
     ]
    }
   ],
   "source": [
    "def solve_knapsack():\n",
    "    val = [50, 100, 150, 200] \n",
    "    wt = [8, 16, 32, 40]  \n",
    "    W = 64  \n",
    "    n = len(val) \n",
    "\n",
    "    def knapsack(W, n):\n",
    "        if n == 0 or W == 0:\n",
    "            return 0 \n",
    "        if wt[n-1] > W:\n",
    "            return knapsack(W, n-1)    \n",
    "        else:\n",
    "            return max(\n",
    "                val[n-1] + knapsack(W - wt[n-1], n-1),knapsack(W, n-1)  \n",
    "            )\n",
    "        \n",
    "    print(knapsack(W, n))\n",
    "\n",
    "solve_knapsack()"
   ]
  },
  {
   "cell_type": "code",
   "execution_count": 5,
   "id": "3107b655-03e0-427f-aefc-91cb1d167590",
   "metadata": {},
   "outputs": [
    {
     "name": "stdout",
     "output_type": "stream",
     "text": [
      "350\n"
     ]
    }
   ],
   "source": [
    "def solve_knapsack():\n",
    "    profit = [50,100,150,200]\n",
    "    weight = [8,16,32,40]\n",
    "    capacity = 64\n",
    "    no_of_items = len(profit)\n",
    "\n",
    "    def knapsack(capacity,no_of_items):\n",
    "        if no_of_items==0 or capacity==0 :\n",
    "            return 0\n",
    "        if weight [no_of_items-1] > capacity :\n",
    "            return knapsack(capacity,no_of_items-1)\n",
    "        else:\n",
    "            return max(profit[no_of_items-1] + knapsack(capacity-weight[no_of_items-1],no_of_items-1) , knapsack(capacity,no_of_items-1))\n",
    "\n",
    "    print(knapsack(capacity,no_of_items))\n",
    "    \n",
    "solve_knapsack()"
   ]
  },
  {
   "cell_type": "code",
   "execution_count": 6,
   "id": "24d522e8-6944-41e6-825b-05ac579b2f08",
   "metadata": {},
   "outputs": [
    {
     "name": "stdout",
     "output_type": "stream",
     "text": [
      "350\n"
     ]
    }
   ],
   "source": [
    "def solve_knapsack():\n",
    "    val = [50,100,150,200]\n",
    "    wt = [8,16,32,40]\n",
    "    cap = 64\n",
    "    n = len(val)\n",
    "\n",
    "    def knapsack(cap,n):\n",
    "        if n==0 or cap==0 :\n",
    "            return 0\n",
    "        if wt[n-1] > cap :\n",
    "            return knapsack(cap, n-1)\n",
    "        else:\n",
    "            return max(val[n-1] + knapsack(cap-wt[n-1],n-1),knapsack(cap,n-1))\n",
    "    print(knapsack(cap,n))\n",
    "\n",
    "solve_knapsack()"
   ]
  },
  {
   "cell_type": "code",
   "execution_count": 8,
   "id": "c8f527ab-9a60-4f75-9a2c-78ac23aaa285",
   "metadata": {},
   "outputs": [
    {
     "name": "stdout",
     "output_type": "stream",
     "text": [
      "350\n"
     ]
    }
   ],
   "source": [
    "def solve_knapsack():\n",
    "    val=[50,100,150,200]\n",
    "    wt=[8,16,32,40]\n",
    "    w= 64\n",
    "    n= len(val)\n",
    "\n",
    "    def knapsack(w,n):\n",
    "        if n==0 or w==0 :\n",
    "            return 0\n",
    "        if wt[n-1] > w :\n",
    "            return knapsack(w,n-1)\n",
    "        else:\n",
    "            return max(val[n-1] + knapsack(w-wt[n-1],n-1),knapsack(w,n-1))\n",
    "            # return max(val[n-1] + knapsack(w-wt[n-1],n-1),knapsack(w,n-1))\n",
    "    print(knapsack(w,n))\n",
    "\n",
    "solve_knapsack()"
   ]
  },
  {
   "cell_type": "code",
   "execution_count": 9,
   "id": "48837d5c-7bcb-4d94-8eb8-0d610e7dd2ff",
   "metadata": {},
   "outputs": [
    {
     "name": "stdout",
     "output_type": "stream",
     "text": [
      "350\n"
     ]
    }
   ],
   "source": [
    "def solve_knapsack():\n",
    "    val = [50,100,150,200]\n",
    "    wt = [8,16,32,40]\n",
    "    w = 64\n",
    "    n = len(val)\n",
    "\n",
    "    def knapsack(w,n):\n",
    "        if w==0 or n==0 :\n",
    "            return 0\n",
    "        if wt[n-1] > w :\n",
    "            return knapsack(w,n-1)\n",
    "        else :\n",
    "            return max(val[n-1] + knapsack(w-wt[n-1],n-1),knapsack(w,n-1))\n",
    "\n",
    "    print (knapsack(w,n))\n",
    "\n",
    "solve_knapsack()"
   ]
  },
  {
   "cell_type": "code",
   "execution_count": 5,
   "id": "a260f003-852c-468a-9e43-0e223963b6db",
   "metadata": {},
   "outputs": [
    {
     "name": "stdout",
     "output_type": "stream",
     "text": [
      "350\n"
     ]
    }
   ],
   "source": [
    "def solve_knapsack():\n",
    "    value = [50,100,150,200]\n",
    "    weight = [8,16,32,40]\n",
    "    capacity = 64\n",
    "    n = len(value)\n",
    "\n",
    "    def knapsack(capacity,n):\n",
    "\n",
    "        if capacity==0 or n==0 :\n",
    "            return 0\n",
    "\n",
    "        if weight[n-1]  > capacity :\n",
    "            return knapsack(capacity , n-1)\n",
    "\n",
    "        else:\n",
    "            return max(value[n-1] + knapsack(capacity-weight[n-1],n-1),knapsack(capacity,n-1))\n",
    "\n",
    "    print (knapsack(capacity,n))\n",
    "\n",
    "solve_knapsack()"
   ]
  },
  {
   "cell_type": "code",
   "execution_count": null,
   "id": "6784176e-a1e6-4472-8d2b-2229d74204dc",
   "metadata": {},
   "outputs": [],
   "source": []
  }
 ],
 "metadata": {
  "kernelspec": {
   "display_name": "Python 3 (ipykernel)",
   "language": "python",
   "name": "python3"
  },
  "language_info": {
   "codemirror_mode": {
    "name": "ipython",
    "version": 3
   },
   "file_extension": ".py",
   "mimetype": "text/x-python",
   "name": "python",
   "nbconvert_exporter": "python",
   "pygments_lexer": "ipython3",
   "version": "3.12.4"
  }
 },
 "nbformat": 4,
 "nbformat_minor": 5
}
